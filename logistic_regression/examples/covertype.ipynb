{
 "cells": [
  {
   "cell_type": "markdown",
   "metadata": {},
   "source": [
    "# Covertype Binary Classification with Logistic Regression\n",
    "\n",
    "The **Covertype** dataset is widely used in machine learning for classifying forest cover types based on various environmental features. This dataset will be used to test our logistic regression implementation. \n",
    "\n",
    "**Details**\n",
    "- Source: UCI Machine Learning Repository.\n",
    "- Instances: Approximately 581012.\n",
    "- Features: 54 atributes, including elevation, slope and distance to hydrology\n",
    "- Target Classes: 7 forest cover types. In this example, we will be using only two types: Lodgepole Pine (1) and Spruce/Fir (0)."
   ]
  },
  {
   "cell_type": "markdown",
   "metadata": {},
   "source": [
    "## Prepare Dataset\n"
   ]
  },
  {
   "cell_type": "code",
   "execution_count": null,
   "metadata": {},
   "outputs": [],
   "source": [
    "from sklearn.datasets import fetch_covtype\n",
    "from sklearn.model_selection import train_test_split\n",
    "import pandas as pd\n",
    "import matplotlib.pyplot as plt\n",
    "import numpy as np"
   ]
  },
  {
   "cell_type": "markdown",
   "metadata": {},
   "source": [
    "## Load Logistic Regression Model"
   ]
  },
  {
   "cell_type": "code",
   "execution_count": null,
   "metadata": {},
   "outputs": [],
   "source": [
    "import os\n",
    "import sys\n",
    "\n",
    "current_directory = os.getcwd()\n",
    "directory = os.path.join(current_directory, '../ml_model')\n",
    "directory = os.path.abspath(directory)\n",
    "\n",
    "sys.path.append(directory)\n",
    "\n",
    "from logistic_regressor import LogisticRegressor"
   ]
  }
 ],
 "metadata": {
  "language_info": {
   "name": "python"
  }
 },
 "nbformat": 4,
 "nbformat_minor": 2
}
